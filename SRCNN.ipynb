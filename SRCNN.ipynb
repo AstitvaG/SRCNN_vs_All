{
  "nbformat": 4,
  "nbformat_minor": 0,
  "metadata": {
    "colab": {
      "name": "SRCNN",
      "provenance": [],
      "collapsed_sections": []
    },
    "kernelspec": {
      "name": "python3",
      "display_name": "Python 3"
    },
    "language_info": {
      "name": "python"
    }
  },
  "cells": [
    {
      "cell_type": "code",
      "metadata": {
        "id": "HrR1r9tUmhKZ"
      },
      "source": [
        "import torch\n",
        "import torchvision\n",
        "import torchvision.transforms as transforms\n",
        "from torch.utils.data import Dataset, DataLoader\n",
        "import torch.nn as nn\n",
        "import torch.nn.functional as F\n",
        "import torch.optim as optim\n",
        "import glob\n",
        "import cv2\n",
        "import numpy as np\n",
        "import PIL.Image as Image\n",
        "import cv2\n",
        "import copy\n",
        "from PIL import ImageFilter\n",
        "import matplotlib.pyplot as plt"
      ],
      "execution_count": null,
      "outputs": []
    },
    {
      "cell_type": "code",
      "metadata": {
        "id": "K_I6w7QUmnF0"
      },
      "source": [
        "SCALE = 3"
      ],
      "execution_count": null,
      "outputs": []
    },
    {
      "cell_type": "code",
      "metadata": {
        "id": "cqLXvJx6mpqB"
      },
      "source": [
        "class HeadDataset(Dataset):\n",
        "    def __init__(self, files, scale=SCALE, stride=30):\n",
        "        # self.files = files\n",
        "        self.scale = scale\n",
        "        # self.files = []\n",
        "        image_windows = []\n",
        "        for image in files:\n",
        "            img = cv2.cvtColor(cv2.imread(image), cv2.COLOR_BGR2RGB)\n",
        "            h,w,c = img.shape\n",
        "            for i in range(0,h-stride,stride):\n",
        "                for j in range(0,w-stride,stride):\n",
        "                    image_windows.append(img[i:i+stride, j:j+stride, :])\n",
        "        self.files = image_windows\n",
        "\n",
        "    def __len__(self):\n",
        "        return len(self.files)\n",
        "\n",
        "           \n",
        "    def __getitem__(self, idx):\n",
        "        scale = self.scale\n",
        "        hr = Image.fromarray(self.files[idx])\n",
        "        hr_width = (hr.width // scale) * scale\n",
        "        hr_height = (hr.height // scale) * scale\n",
        "        lr = hr.filter(ImageFilter.GaussianBlur(radius=2))\n",
        "        lr = lr.resize((hr_width // scale, hr_height // scale), resample=Image.BICUBIC)\n",
        "        lr = lr.resize((lr.width * scale, lr.height * scale), resample=Image.BICUBIC)\n",
        "        hr = np.moveaxis(np.array(hr).astype(np.float32), 2, 0)\n",
        "        lr = np.moveaxis(np.array(lr).astype(np.float32), 2, 0)\n",
        "        return lr, hr"
      ],
      "execution_count": null,
      "outputs": []
    },
    {
      "cell_type": "code",
      "metadata": {
        "id": "pvLsQQIEEKxC"
      },
      "source": [
        "train_folder_regex = './Train/*'\n",
        "train_dataset = HeadDataset(glob.glob(train_folder_regex))\n",
        "train_data = DataLoader(dataset=train_dataset,batch_size=16,shuffle=True,num_workers=8,pin_memory=True)"
      ],
      "execution_count": null,
      "outputs": []
    },
    {
      "cell_type": "code",
      "metadata": {
        "id": "d4FApyOOELsN"
      },
      "source": [
        "test_data = []\n",
        "for image in glob.glob('./Test/*/*.bmp'):\n",
        "    img = cv2.cvtColor(cv2.imread(image), cv2.COLOR_BGR2RGB)\n",
        "    img = torch.tensor(np.array([np.moveaxis(np.array(img).astype(np.float32), 2, 0)]))\n",
        "    test_data.append(img)"
      ],
      "execution_count": null,
      "outputs": []
    },
    {
      "cell_type": "code",
      "metadata": {
        "id": "d72GuBxvGkHO"
      },
      "source": [
        "# from google.colab import drive\n",
        "# drive.mount('/content/drive')"
      ],
      "execution_count": null,
      "outputs": []
    },
    {
      "cell_type": "markdown",
      "metadata": {
        "id": "4iHjaupQGqgc"
      },
      "source": [
        "## Network architecture"
      ]
    },
    {
      "cell_type": "code",
      "metadata": {
        "id": "OSOZapypGlCX"
      },
      "source": [
        "class Net(nn.Module):\n",
        "    def __init__(self):\n",
        "        super(Net, self).__init__()\n",
        "        self.conv1 = nn.Conv2d(3, 128, (5,5), padding=2)\n",
        "        self.conv2 = nn.Conv2d(128, 64, (5,5), padding=2)\n",
        "        self.conv3 = nn.Conv2d(64, 3, (5,5), padding=2)\n",
        "\n",
        "    def forward(self, x):\n",
        "        x = F.relu(self.conv1(x))\n",
        "        x = F.relu(self.conv2(x))\n",
        "        x = F.relu(self.conv3(x))\n",
        "        return x\n",
        "\n",
        "\n",
        "class Net2(nn.Module):\n",
        "    def __init__(self):\n",
        "        super(Net2, self).__init__()\n",
        "        self.conv1 = nn.Conv2d(3, 128, (5,5), padding=2)\n",
        "        self.conv2 = nn.Conv2d(128, 256, (5,5), padding=2)\n",
        "        self.conv3 = nn.Conv2d(256, 512, (5,5), padding=2)\n",
        "        self.conv4 = nn.Conv2d(512, 256, (5,5), padding=2)\n",
        "        self.conv5 = nn.Conv2d(256, 128, (5,5), padding=2)\n",
        "        self.conv6 = nn.Conv2d(128, 3, (5,5), padding=2)\n",
        "\n",
        "    def forward(self, x):\n",
        "        x = F.relu(self.conv1(x))\n",
        "        x = F.relu(self.conv2(x))\n",
        "        x = F.relu(self.conv3(x))\n",
        "        x = F.relu(self.conv4(x))\n",
        "        x = F.relu(self.conv5(x))\n",
        "        x = F.relu(self.conv6(x))\n",
        "        return x"
      ],
      "execution_count": null,
      "outputs": []
    },
    {
      "cell_type": "code",
      "metadata": {
        "id": "gjVczp0EHGAM"
      },
      "source": [
        "def PSNR(original, compressed):\n",
        "    mse = np.mean((original - compressed) ** 2)\n",
        "    if(mse == 0):  # MSE is zero means no noise is present in the signal .\n",
        "                  # Therefore PSNR have no importance.\n",
        "        return 100\n",
        "    max_pixel = 255.0\n",
        "    psnr = 20 * np.log10(max_pixel / np.sqrt(mse))\n",
        "    return psnr"
      ],
      "execution_count": null,
      "outputs": []
    },
    {
      "cell_type": "code",
      "metadata": {
        "id": "nfPfDgxdHiFi"
      },
      "source": [
        "num_epochs = 20\n",
        "lr = 1e-4\n",
        "device = torch.device('cuda:0' if torch.cuda.is_available() else 'cpu')\n",
        "model = Net().to(device)\n",
        "criterion = nn.MSELoss()\n",
        "optimizer = optim.Adam([\n",
        "        {'params': model.conv1.parameters()},\n",
        "        {'params': model.conv2.parameters()},\n",
        "        {'params': model.conv3.parameters(), 'lr': lr * 0.1}\n",
        "    ], lr=lr)\n",
        "best_weights = copy.deepcopy(model.state_dict())\n",
        "best_epoch = 0\n",
        "best_psnr = 0.0\n",
        "\n",
        "total_loss_list = []\n",
        "avg_psnr_list = []\n",
        "device"
      ],
      "execution_count": null,
      "outputs": []
    },
    {
      "cell_type": "code",
      "metadata": {
        "id": "T-XkltM4Hjin"
      },
      "source": [
        "for epoch in range(num_epochs):\n",
        "    model.train()\n",
        "    total_error = 0\n",
        "    for data in train_data:\n",
        "        inputs, labels = data\n",
        "\n",
        "        inputs = inputs.to(device)\n",
        "        labels = labels.to(device)\n",
        "\n",
        "        preds = model(inputs)\n",
        "\n",
        "        loss = criterion(preds, labels)\n",
        "\n",
        "        optimizer.zero_grad()\n",
        "        loss.backward()\n",
        "        optimizer.step()\n",
        "        total_error+=loss.item()\n",
        "        # print(\"D\")\n",
        "\n",
        "    model.eval()\n",
        "\n",
        "    total_psnr = 0\n",
        "    for img in test_data:\n",
        "        preds = model(img.to(device))\n",
        "        if total_psnr==0:\n",
        "            src = np.moveaxis(img.detach().numpy()[0],0,2).astype('uint8')\n",
        "            dst = np.moveaxis(preds.cpu().detach().numpy()[0],0,2).astype('uint8')\n",
        "            # plt.imshow(np.hstack((img.detach().numpy()[0], preds.cpu().detach().numpy())))\n",
        "            plt.imshow(np.hstack((src,dst))), plt.axis('off'), plt.show()\n",
        "        total_psnr += PSNR(img.detach().numpy(), preds.cpu().detach().numpy())\n",
        "\n",
        "    print(epoch, total_psnr/len(test_data), total_error)"
      ],
      "execution_count": null,
      "outputs": []
    }
  ]
}